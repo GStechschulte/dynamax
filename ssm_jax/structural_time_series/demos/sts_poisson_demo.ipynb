{
 "cells": [
  {
   "cell_type": "markdown",
   "metadata": {},
   "source": [
    "# Structural time series (STS) model with Poisson likelihood"
   ]
  },
  {
   "cell_type": "markdown",
   "metadata": {},
   "source": [
    "## Implementation in [TFP](https://www.tensorflow.org/probability/examples/STS_approximate_inference_for_models_with_non_Gaussian_observations)"
   ]
  },
  {
   "cell_type": "markdown",
   "metadata": {},
   "source": [
    "Instead of operating on the observed time series, the model operates on the series of Poisson rate\n",
    "parameters that govern the observations, which is transformed to real values Softplus transformation\n",
    "$y = \\log(1 + \\exp(x))$.\n",
    "\n",
    "To use approximate inference for a non-Gaussian observation model, it encodes the STS model as a\n",
    "TFP JointDistribution. The random variables in this joint distribution are the parameters of the\n",
    "STS model, the time series of latent Poisson rates, and the observed counts.\n",
    "\n",
    "It uses HMC (specifically, NUTS) to sample from the joint posterior over model parameters and latent\n",
    "rates. This will be significantly slower than fitting a standard STS model with HMC, since in addition\n",
    "to the model's (relatively small number of) parameters it also has to infer the entire series of\n",
    "Poisson rates."
   ]
  },
  {
   "cell_type": "code",
   "execution_count": null,
   "metadata": {},
   "outputs": [],
   "source": []
  },
  {
   "cell_type": "markdown",
   "metadata": {},
   "source": [
    "## Implementation via CMGF"
   ]
  },
  {
   "cell_type": "code",
   "execution_count": null,
   "metadata": {},
   "outputs": [],
   "source": []
  }
 ],
 "metadata": {
  "kernelspec": {
   "display_name": "Python 3.8.14 64-bit",
   "language": "python",
   "name": "python3"
  },
  "language_info": {
   "name": "python",
   "version": "3.8.14"
  },
  "orig_nbformat": 4,
  "vscode": {
   "interpreter": {
    "hash": "df0893f56f349688326838aaeea0de204df53a132722cbd565e54b24a8fec5f6"
   }
  }
 },
 "nbformat": 4,
 "nbformat_minor": 2
}
