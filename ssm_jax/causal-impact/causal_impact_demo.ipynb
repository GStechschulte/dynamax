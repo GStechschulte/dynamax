{
 "cells": [
  {
   "cell_type": "code",
   "execution_count": 1,
   "metadata": {},
   "outputs": [],
   "source": [
    "import os \n",
    "os.chdir('/home/xinglong/git_local/ssm-jax')\n",
    "import jax\n",
    "jax.config.update('jax_platform_name', 'cpu')"
   ]
  },
  {
   "cell_type": "markdown",
   "metadata": {},
   "source": [
    "# Causal Impact Jax"
   ]
  },
  {
   "cell_type": "markdown",
   "metadata": {},
   "source": [
    "The causal impact R package: <a href=\"https://google.github.io/CausalImpact/CausalImpact.html\"> CausalImpact</a> is built upon the R package <a href=\"https://cran.r-project.org/web/packages/bsts/bsts.pdf\"> bsts </a> for Bayesian structural time series models.\n",
    "\n",
    "There are some python packages that implement the causal impact algorithm with python:\n",
    "* The package <a href=\"https://github.com/WillianFuks/tfcausalimpact\"> tfcausalimpact </a> is built upon the \n",
    "<a href=\"https://www.tensorflow.org/probability/api_docs/python/tfp/sts\"> tfp.sts module </a>.\n",
    "* The package <a href=\"https://pypi.org/project/pycausalimpact/\"> pycausalimpact </a> is built upon the package\n",
    " <a href=\"https://github.com/statsmodels/statsmodels\"> statsmodels </a>.\n",
    "* The package <a href=\"https://github.com/jamalsenouci/causalimpact\"> causalimpact </a> is also built upon the package ‘statsmodel’.\n",
    "\n",
    "The R package ‘bsts’, python packages ‘tfp.sts’, and ‘statsmodels’ all contain functions that build the structural time series model and perform posterior inference and forecast predictions."
   ]
  },
  {
   "cell_type": "markdown",
   "metadata": {},
   "source": [
    "## Causal impact"
   ]
  },
  {
   "cell_type": "markdown",
   "metadata": {},
   "source": [
    "## Example \n",
    "\n",
    "Use the same example as in the R package <a href=\"http://google.github.io/CausalImpact/CausalImpact.html\"> CausalImpact</a>."
   ]
  },
  {
   "cell_type": "code",
   "execution_count": 16,
   "metadata": {},
   "outputs": [],
   "source": [
    "import jax.numpy as jnp\n",
    "import jax.random as jr\n",
    "from jax import lax\n",
    "import matplotlib.pyplot as plt\n",
    "\n",
    "from causal_impact import causal_impact"
   ]
  },
  {
   "cell_type": "code",
   "execution_count": 54,
   "metadata": {},
   "outputs": [
    {
     "data": {
      "text/plain": [
       "<matplotlib.legend.Legend at 0x7f7cc00618e0>"
      ]
     },
     "execution_count": 54,
     "metadata": {},
     "output_type": "execute_result"
    },
    {
     "data": {
      "image/png": "[encoded data removed]",
      "text/plain": [
       "<Figure size 432x288 with 1 Axes>"
      ]
     },
     "metadata": {
      "needs_background": "light"
     },
     "output_type": "display_data"
    }
   ],
   "source": [
    "num_timesteps = 100\n",
    "\n",
    "def auto_regress(x, key):\n",
    "    x_new = 0.99 * x + jr.normal(key)\n",
    "    return x_new, x\n",
    "\n",
    "key = jr.PRNGKey(0)\n",
    "x0 = jr.normal(key)\n",
    "keys = jr.split(key, num_timesteps)\n",
    "_, x =  lax.scan(auto_regress, x0, keys)\n",
    "x = x + 100\n",
    "\n",
    "y = 1.2*x + jr.normal(key, shape=(num_timesteps,))\n",
    "y = y.at[70:].set(y[70:]+10)\n",
    "\n",
    "# If there is a regression component, the data is  of shape (num_timesteps, 1+k),\n",
    "# with the first column of data being the response variable,\n",
    "# and the following columns k columns being k explanatory variables.\n",
    "data = jnp.concatenate((jnp.atleast_2d(y).T, jnp.atleast_2d(x).T), axis=1)\n",
    "\n",
    "plt.plot(data[:, 0], label='Y', color='black', lw=2)\n",
    "plt.plot(data[:, 1], linestyle='dashed', color='red', lw=2, label='X')\n",
    "plt.legend()"
   ]
  },
  {
   "cell_type": "code",
   "execution_count": null,
   "metadata": {},
   "outputs": [],
   "source": [
    "# Run an anlysis\n",
    "# Time points 1 … 70 will be used for training, \n",
    "# and time points 71 … 100 will be used for computing predictions.\n",
    "pre_period = (0, 70)\n",
    "post_period = (70, 100)\n",
    "impact = causal_impact(data, pre_period, post_period)"
   ]
  },
  {
   "cell_type": "code",
   "execution_count": null,
   "metadata": {},
   "outputs": [],
   "source": [
    "# Print the summaries of the inferred causal impact\n",
    "impact.summary()"
   ]
  },
  {
   "cell_type": "code",
   "execution_count": null,
   "metadata": {},
   "outputs": [],
   "source": [
    "# Plot the inferred causal impact\n",
    "impact.plot()"
   ]
  }
 ],
 "metadata": {
  "kernelspec": {
   "display_name": "Python 3.8.14 64-bit",
   "language": "python",
   "name": "python3"
  },
  "language_info": {
   "codemirror_mode": {
    "name": "ipython",
    "version": 3
   },
   "file_extension": ".py",
   "mimetype": "text/x-python",
   "name": "python",
   "nbconvert_exporter": "python",
   "pygments_lexer": "ipython3",
   "version": "3.8.14"
  },
  "orig_nbformat": 4,
  "vscode": {
   "interpreter": {
    "hash": "5b3ded1ccb95c1d9bd405e7b823d9e85424cde40fbb5985eb47e999ef50e15b4"
   }
  }
 },
 "nbformat": 4,
 "nbformat_minor": 2
}
