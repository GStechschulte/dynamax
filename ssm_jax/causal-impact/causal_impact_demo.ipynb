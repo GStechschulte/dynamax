{
 "cells": [
  {
   "cell_type": "markdown",
   "metadata": {},
   "source": [
    "# Causal Impact Jax"
   ]
  },
  {
   "cell_type": "markdown",
   "metadata": {},
   "source": [
    "The causal impact R package: <a href=\"https://google.github.io/CausalImpact/CausalImpact.html\"> CausalImpact</a> is built upon the R package <a href=\"https://cran.r-project.org/web/packages/bsts/bsts.pdf\"> bsts </a> for Bayesian structural time series models.\n",
    "\n",
    "There are some python packages that implement the causal impact algorithm with python:\n",
    "* The package <a href=\"https://github.com/WillianFuks/tfcausalimpact\"> tfcausalimpact </a> is built upon the \n",
    "<a href=\"https://www.tensorflow.org/probability/api_docs/python/tfp/sts\"> tfp.sts module </a>.\n",
    "* The package <a href=\"https://pypi.org/project/pycausalimpact/\"> pycausalimpact </a> is built upon the package\n",
    " <a href=\"https://github.com/statsmodels/statsmodels\"> statsmodels </a>.\n",
    "* The package <a href=\"https://github.com/jamalsenouci/causalimpact\"> causalimpact </a> is also built upon the package ‘statsmodel’.\n",
    "\n",
    "The R package ‘bsts’, python packages ‘tfp.sts’, and ‘statsmodels’ all contain functions that build the structural time series model and perform posterior inference and forecast predictions."
   ]
  },
  {
   "cell_type": "markdown",
   "metadata": {},
   "source": [
    "## Causal impact"
   ]
  },
  {
   "cell_type": "markdown",
   "metadata": {},
   "source": [
    "## Example \n",
    "\n",
    "Use the same example as in the R package <a href=\"http://google.github.io/CausalImpact/CausalImpact.html\"> CausalImpact</a>."
   ]
  },
  {
   "cell_type": "code",
   "execution_count": null,
   "metadata": {},
   "outputs": [],
   "source": [
    "import jax.numpy as jnp\n",
    "import jax.random as jr\n",
    "\n",
    "import matplotlib.pyplot as plt\n",
    "\n",
    "from causal_impact import causal_impact"
   ]
  },
  {
   "cell_type": "code",
   "execution_count": null,
   "metadata": {},
   "outputs": [],
   "source": [
    "# Create an example dataset\n",
    "num_timesteps = 100\n",
    "\n",
    "states = 100 + arima(model=list(ar=0.999), n=100)\n",
    "time_series = 1.2 * states + random(num_timesteps)\n",
    "\n",
    "# Create an intervention effect by lifting the response variable by 10 units after timepoint 71.\n",
    "time_series[70:] = time_series[70:] + 10"
   ]
  },
  {
   "cell_type": "code",
   "execution_count": null,
   "metadata": {},
   "outputs": [],
   "source": [
    "# Visualize the generated data\n",
    "plt.plot(states)\n",
    "plt.plot(time_series)"
   ]
  },
  {
   "cell_type": "code",
   "execution_count": null,
   "metadata": {},
   "outputs": [],
   "source": [
    "# Run an anlysis\n",
    "# Time points 1 … 70 will be used for training, \n",
    "# and time points 71 … 100 will be used for computing predictions.\n",
    "pre_period = (0, 70)\n",
    "post_period = (70, 100)\n",
    "impact = causal_impact(data, pre_period, post_period)"
   ]
  },
  {
   "cell_type": "code",
   "execution_count": null,
   "metadata": {},
   "outputs": [],
   "source": [
    "# Print the summaries of the inferred causal impact\n",
    "impact.summary()"
   ]
  },
  {
   "cell_type": "code",
   "execution_count": null,
   "metadata": {},
   "outputs": [],
   "source": [
    "# Plot the inferred causal impact\n",
    "impact.plot()"
   ]
  }
 ],
 "metadata": {
  "kernelspec": {
   "display_name": "Python 3.8.10 64-bit",
   "language": "python",
   "name": "python3"
  },
  "language_info": {
   "codemirror_mode": {
    "name": "ipython",
    "version": 3
   },
   "file_extension": ".py",
   "mimetype": "text/x-python",
   "name": "python",
   "nbconvert_exporter": "python",
   "pygments_lexer": "ipython3",
   "version": "3.10.4"
  },
  "orig_nbformat": 4,
  "vscode": {
   "interpreter": {
    "hash": "916dbcbb3f70747c44a77c7bcd40155683ae19c65e1c03b4aa3499c5328201f1"
   }
  }
 },
 "nbformat": 4,
 "nbformat_minor": 2
}
