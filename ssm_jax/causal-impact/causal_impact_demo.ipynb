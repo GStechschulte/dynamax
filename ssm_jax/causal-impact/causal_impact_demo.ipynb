{
 "cells": [
  {
   "cell_type": "code",
   "execution_count": 1,
   "metadata": {},
   "outputs": [],
   "source": [
    "import os \n",
    "os.chdir('/home/xinglong/git_local/ssm-jax')\n",
    "import jax\n",
    "jax.config.update('jax_platform_name', 'cpu')"
   ]
  },
  {
   "cell_type": "markdown",
   "metadata": {},
   "source": [
    "# Causal Impact Jax"
   ]
  },
  {
   "cell_type": "markdown",
   "metadata": {},
   "source": [
    "The causal impact R package: <a href=\"https://google.github.io/CausalImpact/CausalImpact.html\"> CausalImpact</a> is built upon the R package <a href=\"https://cran.r-project.org/web/packages/bsts/bsts.pdf\"> bsts </a> for Bayesian structural time series models.\n",
    "\n",
    "There are some python packages that implement the causal impact algorithm with python:\n",
    "* The package <a href=\"https://github.com/WillianFuks/tfcausalimpact\"> tfcausalimpact </a> is built upon the \n",
    "<a href=\"https://www.tensorflow.org/probability/api_docs/python/tfp/sts\"> tfp.sts module </a>.\n",
    "* The package <a href=\"https://pypi.org/project/pycausalimpact/\"> pycausalimpact </a> is built upon the package\n",
    " <a href=\"https://github.com/statsmodels/statsmodels\"> statsmodels </a>.\n",
    "* The package <a href=\"https://github.com/jamalsenouci/causalimpact\"> causalimpact </a> is also built upon the package ‘statsmodel’.\n",
    "\n",
    "The R package ‘bsts’, python packages ‘tfp.sts’, and ‘statsmodels’ all contain functions that build the structural time series model and perform posterior inference and forecast predictions."
   ]
  },
  {
   "cell_type": "markdown",
   "metadata": {},
   "source": [
    "## Causal impact"
   ]
  },
  {
   "cell_type": "markdown",
   "metadata": {},
   "source": [
    "## Example \n",
    "\n",
    "Use the same example as in the R package <a href=\"http://google.github.io/CausalImpact/CausalImpact.html\"> CausalImpact</a>."
   ]
  },
  {
   "cell_type": "code",
   "execution_count": 2,
   "metadata": {},
   "outputs": [],
   "source": [
    "import jax.numpy as jnp\n",
    "import jax.random as jr\n",
    "from jax import lax\n",
    "import matplotlib.pyplot as plt\n",
    "\n",
    "from causal_impact import causal_impact"
   ]
  },
  {
   "cell_type": "code",
   "execution_count": 3,
   "metadata": {},
   "outputs": [
    {
     "data": {
      "text/plain": [
       "<matplotlib.legend.Legend at 0x7f4c7b1d1850>"
      ]
     },
     "execution_count": 3,
     "metadata": {},
     "output_type": "execute_result"
    },
    {
     "data": {
      "image/png": "[encoded data removed]",
      "text/plain": [
       "<Figure size 432x288 with 1 Axes>"
      ]
     },
     "metadata": {
      "needs_background": "light"
     },
     "output_type": "display_data"
    }
   ],
   "source": [
    "num_timesteps = 100\n",
    "\n",
    "def auto_regress(x, key):\n",
    "    x_new = 0.99 * x + jr.normal(key)\n",
    "    return x_new, x\n",
    "\n",
    "key = jr.PRNGKey(0)\n",
    "x0 = jr.normal(key)\n",
    "keys = jr.split(key, num_timesteps)\n",
    "_, x =  lax.scan(auto_regress, x0, keys)\n",
    "x = x + 100\n",
    "\n",
    "y = 1.2*x + jr.normal(key, shape=(num_timesteps,))\n",
    "y = y.at[70:].set(y[70:]+10)\n",
    "\n",
    "plt.plot(y, label='Y', color='black', lw=2)\n",
    "plt.plot(x, linestyle='dashed', color='red', lw=2, label='X')\n",
    "plt.legend()"
   ]
  },
  {
   "cell_type": "code",
   "execution_count": 4,
   "metadata": {},
   "outputs": [],
   "source": [
    "# Run an anlysis\n",
    "observed_timeseries = jnp.expand_dims(y, 1)\n",
    "inputs = jnp.concatenate((jnp.ones((num_timesteps, 1)), jnp.expand_dims(x, 1)), axis=1)\n",
    "intervention_time = 70\n"
   ]
  },
  {
   "cell_type": "code",
   "execution_count": 5,
   "metadata": {},
   "outputs": [],
   "source": [
    "import ssm_jax.structural_time_series.models.structural_time_series as sts\n",
    "\n",
    "sts_model=None\n",
    "confidence_level=0.95\n",
    "key=jr.PRNGKey(0)\n",
    "sample_size=200\n",
    "\n",
    "key1, key2, key3 = jr.split(key, 3)\n",
    "num_timesteps, dim_obs = observed_timeseries.shape\n",
    "\n",
    "# Split the data into pre-intervention period and post-intervention period\n",
    "timeseries_pre = observed_timeseries[:intervention_time]\n",
    "timeseries_pos = observed_timeseries[intervention_time:]\n",
    "\n",
    "if inputs is not None:\n",
    "    dim_inputs = inputs.shape[-1]\n",
    "    # The number of time steps of input must equal to that of observed time_series.\n",
    "    inputs_pre = inputs[:intervention_time]\n",
    "    inputs_pos = inputs[intervention_time:]\n",
    "\n",
    "# Construct a STS model with only local linear trend by default\n",
    "if sts_model is None:\n",
    "    local_linear_trend = sts.LocalLinearTrend(observed_timeseries=observed_timeseries)\n",
    "    if inputs is None:\n",
    "        sts_model = sts.StructuralTimeSeries(components=[local_linear_trend],\n",
    "                                             observed_timeseries=observed_timeseries)\n",
    "    else:\n",
    "        linear_regression = sts.LinearRegression(weights_shape=(dim_obs, dim_inputs))\n",
    "        sts_model = sts.StructuralTimeSeries(components=[local_linear_trend, linear_regression],\n",
    "                                             observed_timeseries=observed_timeseries)\n"
   ]
  },
  {
   "cell_type": "code",
   "execution_count": 6,
   "metadata": {},
   "outputs": [],
   "source": [
    "sts_ssm = sts_model.as_ssm()\n",
    "batch_observed_time_series = jnp.array([timeseries_pre]) \n",
    "batch_inputs = jnp.array([inputs_pre])\n",
    "warmup_steps=500\n",
    "num_integration_steps=30\n",
    "self = sts_ssm\n"
   ]
  },
  {
   "cell_type": "code",
   "execution_count": 7,
   "metadata": {},
   "outputs": [],
   "source": [
    "from ssm_jax.structural_time_series.new_parameters import (\n",
    "    to_unconstrained, from_unconstrained, log_det_jac_constrain, ParameterProperties)\n",
    "from jax import jit, vmap\n",
    "import blackjax\n",
    "from jax.tree_util import tree_map\n",
    "from tqdm.auto import trange\n",
    "batch_emissions = batch_observed_time_series\n",
    "\n",
    "def logprob(trainable_unc_params):\n",
    "    params = from_unconstrained(trainable_unc_params, fixed_params, self.param_props)\n",
    "    log_det_jac = log_det_jac_constrain(trainable_unc_params, fixed_params, self.param_props)\n",
    "    log_pri = self.log_prior(params) + log_det_jac\n",
    "    batch_lls = vmap(self.marginal_log_prob)(batch_emissions, batch_inputs, params)\n",
    "    lp = log_pri + batch_lls.sum()\n",
    "    return lp\n"
   ]
  },
  {
   "cell_type": "code",
   "execution_count": 8,
   "metadata": {},
   "outputs": [],
   "source": [
    "# Initialize the HMC sampler using window_adaptations\n",
    "hmc_initial_position, fixed_params = to_unconstrained(self.params, self.param_props)"
   ]
  },
  {
   "cell_type": "code",
   "execution_count": 10,
   "metadata": {},
   "outputs": [
    {
     "ename": "TypeError",
     "evalue": "dot_general requires contracting dimensions to have the same shape, got (0,) and (2,).",
     "output_type": "error",
     "traceback": [
      "\u001b[0;31m---------------------------------------------------------------------------\u001b[0m",
      "\u001b[0;31mTypeError\u001b[0m                                 Traceback (most recent call last)",
      "\u001b[1;32m/home/xinglong/git_local/ssm-jax/ssm_jax/causal-impact/causal_impact_demo.ipynb Cell 13\u001b[0m in \u001b[0;36m<cell line: 5>\u001b[0;34m()\u001b[0m\n\u001b[1;32m      <a href='vscode-notebook-cell:/home/xinglong/git_local/ssm-jax/ssm_jax/causal-impact/causal_impact_demo.ipynb#X36sZmlsZQ%3D%3D?line=0'>1</a>\u001b[0m warmup \u001b[39m=\u001b[39m blackjax\u001b[39m.\u001b[39mwindow_adaptation(blackjax\u001b[39m.\u001b[39mhmc,\n\u001b[1;32m      <a href='vscode-notebook-cell:/home/xinglong/git_local/ssm-jax/ssm_jax/causal-impact/causal_impact_demo.ipynb#X36sZmlsZQ%3D%3D?line=1'>2</a>\u001b[0m                                     logprob,\n\u001b[1;32m      <a href='vscode-notebook-cell:/home/xinglong/git_local/ssm-jax/ssm_jax/causal-impact/causal_impact_demo.ipynb#X36sZmlsZQ%3D%3D?line=2'>3</a>\u001b[0m                                     num_steps\u001b[39m=\u001b[39mwarmup_steps,\n\u001b[1;32m      <a href='vscode-notebook-cell:/home/xinglong/git_local/ssm-jax/ssm_jax/causal-impact/causal_impact_demo.ipynb#X36sZmlsZQ%3D%3D?line=3'>4</a>\u001b[0m                                     num_integration_steps\u001b[39m=\u001b[39mnum_integration_steps)\n\u001b[0;32m----> <a href='vscode-notebook-cell:/home/xinglong/git_local/ssm-jax/ssm_jax/causal-impact/causal_impact_demo.ipynb#X36sZmlsZQ%3D%3D?line=4'>5</a>\u001b[0m hmc_initial_state, hmc_kernel, _ \u001b[39m=\u001b[39m warmup\u001b[39m.\u001b[39;49mrun(key, hmc_initial_position)\n",
      "File \u001b[0;32m~/.local/lib/python3.8/site-packages/blackjax/kernels.py:708\u001b[0m, in \u001b[0;36mwindow_adaptation.<locals>.run\u001b[0;34m(rng_key, position)\u001b[0m\n\u001b[1;32m    707\u001b[0m \u001b[39mdef\u001b[39;00m \u001b[39mrun\u001b[39m(rng_key: PRNGKey, position: PyTree):\n\u001b[0;32m--> 708\u001b[0m     init_state \u001b[39m=\u001b[39m algorithm\u001b[39m.\u001b[39;49minit(position, logprob_fn, logprob_grad_fn)\n\u001b[1;32m    709\u001b[0m     init_warmup_state \u001b[39m=\u001b[39m init(init_state, initial_step_size)\n\u001b[1;32m    711\u001b[0m     \u001b[39mif\u001b[39;00m progress_bar:\n",
      "File \u001b[0;32m~/.local/lib/python3.8/site-packages/blackjax/mcmc/hmc.py:78\u001b[0m, in \u001b[0;36minit\u001b[0;34m(position, logprob_fn, logprob_grad_fn)\u001b[0m\n\u001b[1;32m     75\u001b[0m     potential_energy \u001b[39m=\u001b[39m potential_fn(position)\n\u001b[1;32m     77\u001b[0m \u001b[39melse\u001b[39;00m:\n\u001b[0;32m---> 78\u001b[0m     potential_energy, potential_energy_grad \u001b[39m=\u001b[39m jax\u001b[39m.\u001b[39;49mvalue_and_grad(potential_fn)(\n\u001b[1;32m     79\u001b[0m         position\n\u001b[1;32m     80\u001b[0m     )\n\u001b[1;32m     81\u001b[0m \u001b[39mreturn\u001b[39;00m HMCState(position, potential_energy, potential_energy_grad)\n",
      "    \u001b[0;31m[... skipping hidden 8 frame]\u001b[0m\n",
      "File \u001b[0;32m~/.local/lib/python3.8/site-packages/blackjax/mcmc/hmc.py:70\u001b[0m, in \u001b[0;36minit.<locals>.potential_fn\u001b[0;34m(x)\u001b[0m\n\u001b[1;32m     69\u001b[0m \u001b[39mdef\u001b[39;00m \u001b[39mpotential_fn\u001b[39m(x):\n\u001b[0;32m---> 70\u001b[0m     \u001b[39mreturn\u001b[39;00m \u001b[39m-\u001b[39mlogprob_fn(x)\n",
      "\u001b[1;32m/home/xinglong/git_local/ssm-jax/ssm_jax/causal-impact/causal_impact_demo.ipynb Cell 13\u001b[0m in \u001b[0;36mlogprob\u001b[0;34m(trainable_unc_params)\u001b[0m\n\u001b[1;32m     <a href='vscode-notebook-cell:/home/xinglong/git_local/ssm-jax/ssm_jax/causal-impact/causal_impact_demo.ipynb#X36sZmlsZQ%3D%3D?line=10'>11</a>\u001b[0m log_det_jac \u001b[39m=\u001b[39m log_det_jac_constrain(trainable_unc_params, fixed_params, \u001b[39mself\u001b[39m\u001b[39m.\u001b[39mparam_props)\n\u001b[1;32m     <a href='vscode-notebook-cell:/home/xinglong/git_local/ssm-jax/ssm_jax/causal-impact/causal_impact_demo.ipynb#X36sZmlsZQ%3D%3D?line=11'>12</a>\u001b[0m log_pri \u001b[39m=\u001b[39m \u001b[39mself\u001b[39m\u001b[39m.\u001b[39mlog_prior(params) \u001b[39m+\u001b[39m log_det_jac\n\u001b[0;32m---> <a href='vscode-notebook-cell:/home/xinglong/git_local/ssm-jax/ssm_jax/causal-impact/causal_impact_demo.ipynb#X36sZmlsZQ%3D%3D?line=12'>13</a>\u001b[0m batch_lls \u001b[39m=\u001b[39m vmap(\u001b[39mself\u001b[39;49m\u001b[39m.\u001b[39;49mmarginal_log_prob)(batch_emissions, batch_inputs, params)\n\u001b[1;32m     <a href='vscode-notebook-cell:/home/xinglong/git_local/ssm-jax/ssm_jax/causal-impact/causal_impact_demo.ipynb#X36sZmlsZQ%3D%3D?line=13'>14</a>\u001b[0m lp \u001b[39m=\u001b[39m log_pri \u001b[39m+\u001b[39m batch_lls\u001b[39m.\u001b[39msum()\n\u001b[1;32m     <a href='vscode-notebook-cell:/home/xinglong/git_local/ssm-jax/ssm_jax/causal-impact/causal_impact_demo.ipynb#X36sZmlsZQ%3D%3D?line=14'>15</a>\u001b[0m \u001b[39mreturn\u001b[39;00m lp\n",
      "    \u001b[0;31m[... skipping hidden 3 frame]\u001b[0m\n",
      "File \u001b[0;32m~/git_local/ssm-jax/ssm_jax/structural_time_series/models/structural_time_series_ssm.py:178\u001b[0m, in \u001b[0;36mStructuralTimeSeriesSSM.marginal_log_prob\u001b[0;34m(self, emissions, inputs, params)\u001b[0m\n\u001b[1;32m    174\u001b[0m \u001b[39melse\u001b[39;00m:\n\u001b[1;32m    175\u001b[0m     \u001b[39m# Compute marginal log prob using given parameter\u001b[39;00m\n\u001b[1;32m    176\u001b[0m     lgssm_params \u001b[39m=\u001b[39m \u001b[39mself\u001b[39m\u001b[39m.\u001b[39m_to_lgssm_params(params)\n\u001b[0;32m--> 178\u001b[0m filtered_posterior \u001b[39m=\u001b[39m lgssm_filter(lgssm_params, emissions, inputs)\n\u001b[1;32m    179\u001b[0m \u001b[39mreturn\u001b[39;00m filtered_posterior\u001b[39m.\u001b[39mmarginal_loglik\n",
      "File \u001b[0;32m~/git_local/ssm-jax/ssm_jax/linear_gaussian_ssm/inference.py:166\u001b[0m, in \u001b[0;36mlgssm_filter\u001b[0;34m(params, emissions, inputs)\u001b[0m\n\u001b[1;32m    164\u001b[0m \u001b[39m# Run the Kalman filter\u001b[39;00m\n\u001b[1;32m    165\u001b[0m carry \u001b[39m=\u001b[39m (\u001b[39m0.0\u001b[39m, params\u001b[39m.\u001b[39minitial_mean, params\u001b[39m.\u001b[39minitial_covariance)\n\u001b[0;32m--> 166\u001b[0m (ll, _, _), (filtered_means, filtered_covs) \u001b[39m=\u001b[39m lax\u001b[39m.\u001b[39;49mscan(_step, carry, jnp\u001b[39m.\u001b[39;49marange(num_timesteps))\n\u001b[1;32m    167\u001b[0m \u001b[39mreturn\u001b[39;00m LGSSMPosterior(marginal_loglik\u001b[39m=\u001b[39mll, filtered_means\u001b[39m=\u001b[39mfiltered_means, filtered_covariances\u001b[39m=\u001b[39mfiltered_covs)\n",
      "    \u001b[0;31m[... skipping hidden 13 frame]\u001b[0m\n",
      "File \u001b[0;32m~/git_local/ssm-jax/ssm_jax/linear_gaussian_ssm/inference.py:160\u001b[0m, in \u001b[0;36mlgssm_filter.<locals>._step\u001b[0;34m(carry, t)\u001b[0m\n\u001b[1;32m    157\u001b[0m filtered_mean, filtered_cov \u001b[39m=\u001b[39m _condition_on(pred_mean, pred_cov, H, D, d, R, u, y)\n\u001b[1;32m    159\u001b[0m \u001b[39m# Predict the next state\u001b[39;00m\n\u001b[0;32m--> 160\u001b[0m pred_mean, pred_cov \u001b[39m=\u001b[39m _predict(filtered_mean, filtered_cov, F, B, b, Q, u)\n\u001b[1;32m    162\u001b[0m \u001b[39mreturn\u001b[39;00m (ll, pred_mean, pred_cov), (filtered_mean, filtered_cov)\n",
      "File \u001b[0;32m~/git_local/ssm-jax/ssm_jax/linear_gaussian_ssm/inference.py:77\u001b[0m, in \u001b[0;36m_predict\u001b[0;34m(m, S, F, B, b, Q, u)\u001b[0m\n\u001b[1;32m     58\u001b[0m \u001b[39mdef\u001b[39;00m \u001b[39m_predict\u001b[39m(m, S, F, B, b, Q, u):\n\u001b[1;32m     59\u001b[0m     \u001b[39m\"\"\"Predict next mean and covariance under a linear Gaussian model\u001b[39;00m\n\u001b[1;32m     60\u001b[0m \n\u001b[1;32m     61\u001b[0m \u001b[39m        p(x_{t+1}) = \\int N(x_t | m, S) N(x_{t+1} | Fx_t + Bu + b, Q)\u001b[39;00m\n\u001b[0;32m   (...)\u001b[0m\n\u001b[1;32m     75\u001b[0m \u001b[39m        Sigma_pred (D_hid,D_hid): predicted covariance.\u001b[39;00m\n\u001b[1;32m     76\u001b[0m \u001b[39m    \"\"\"\u001b[39;00m\n\u001b[0;32m---> 77\u001b[0m     mu_pred \u001b[39m=\u001b[39m F \u001b[39m@\u001b[39m m \u001b[39m+\u001b[39m B \u001b[39m@\u001b[39;49m u \u001b[39m+\u001b[39m b\n\u001b[1;32m     78\u001b[0m     Sigma_pred \u001b[39m=\u001b[39m F \u001b[39m@\u001b[39m S \u001b[39m@\u001b[39m F\u001b[39m.\u001b[39mT \u001b[39m+\u001b[39m Q\n\u001b[1;32m     79\u001b[0m     \u001b[39mreturn\u001b[39;00m mu_pred, Sigma_pred\n",
      "File \u001b[0;32m~/.local/lib/python3.8/site-packages/jax/_src/numpy/lax_numpy.py:4557\u001b[0m, in \u001b[0;36m_defer_to_unrecognized_arg.<locals>.deferring_binary_op\u001b[0;34m(self, other)\u001b[0m\n\u001b[1;32m   4555\u001b[0m \u001b[39mif\u001b[39;00m \u001b[39mnot\u001b[39;00m \u001b[39misinstance\u001b[39m(other, _accepted_binop_types):\n\u001b[1;32m   4556\u001b[0m   \u001b[39mreturn\u001b[39;00m \u001b[39mNotImplemented\u001b[39m\n\u001b[0;32m-> 4557\u001b[0m \u001b[39mreturn\u001b[39;00m binary_op(\u001b[39mself\u001b[39;49m, other)\n",
      "    \u001b[0;31m[... skipping hidden 7 frame]\u001b[0m\n",
      "File \u001b[0;32m~/.local/lib/python3.8/site-packages/jax/_src/numpy/lax_numpy.py:2764\u001b[0m, in \u001b[0;36mmatmul\u001b[0;34m(a, b, precision)\u001b[0m\n\u001b[1;32m   2762\u001b[0m a \u001b[39m=\u001b[39m lax\u001b[39m.\u001b[39msqueeze(a, \u001b[39mtuple\u001b[39m(a_squeeze))\n\u001b[1;32m   2763\u001b[0m b \u001b[39m=\u001b[39m lax\u001b[39m.\u001b[39msqueeze(b, \u001b[39mtuple\u001b[39m(b_squeeze))\n\u001b[0;32m-> 2764\u001b[0m out \u001b[39m=\u001b[39m lax\u001b[39m.\u001b[39;49mdot_general(\n\u001b[1;32m   2765\u001b[0m   a, b, (((ndim(a) \u001b[39m-\u001b[39;49m \u001b[39m1\u001b[39;49m,), (ndim(b) \u001b[39m-\u001b[39;49m \u001b[39m1\u001b[39;49m \u001b[39m-\u001b[39;49m b_is_mat,)), (a_batch, b_batch)),\n\u001b[1;32m   2766\u001b[0m   precision\u001b[39m=\u001b[39;49mprecision)\n\u001b[1;32m   2767\u001b[0m \u001b[39mreturn\u001b[39;00m lax\u001b[39m.\u001b[39mtranspose(out, perm)\n",
      "    \u001b[0;31m[... skipping hidden 7 frame]\u001b[0m\n",
      "File \u001b[0;32m~/.local/lib/python3.8/site-packages/jax/_src/lax/lax.py:2409\u001b[0m, in \u001b[0;36m_dot_general_shape_rule\u001b[0;34m(lhs, rhs, dimension_numbers, precision, preferred_element_type)\u001b[0m\n\u001b[1;32m   2406\u001b[0m \u001b[39mif\u001b[39;00m \u001b[39mnot\u001b[39;00m core\u001b[39m.\u001b[39msymbolic_equal_shape(lhs_contracting_shape, rhs_contracting_shape):\n\u001b[1;32m   2407\u001b[0m   msg \u001b[39m=\u001b[39m (\u001b[39m\"\u001b[39m\u001b[39mdot_general requires contracting dimensions to have the same \u001b[39m\u001b[39m\"\u001b[39m\n\u001b[1;32m   2408\u001b[0m          \u001b[39m\"\u001b[39m\u001b[39mshape, got \u001b[39m\u001b[39m{}\u001b[39;00m\u001b[39m and \u001b[39m\u001b[39m{}\u001b[39;00m\u001b[39m.\u001b[39m\u001b[39m\"\u001b[39m)\n\u001b[0;32m-> 2409\u001b[0m   \u001b[39mraise\u001b[39;00m \u001b[39mTypeError\u001b[39;00m(msg\u001b[39m.\u001b[39mformat(lhs_contracting_shape, rhs_contracting_shape))\n\u001b[1;32m   2411\u001b[0m \u001b[39mreturn\u001b[39;00m _dot_general_shape_computation(lhs\u001b[39m.\u001b[39mshape, rhs\u001b[39m.\u001b[39mshape, dimension_numbers)\n",
      "\u001b[0;31mTypeError\u001b[0m: dot_general requires contracting dimensions to have the same shape, got (0,) and (2,)."
     ]
    }
   ],
   "source": [
    "warmup = blackjax.window_adaptation(blackjax.hmc,\n",
    "                                    logprob,\n",
    "                                    num_steps=warmup_steps,\n",
    "                                    num_integration_steps=num_integration_steps)\n",
    "hmc_initial_state, hmc_kernel, _ = warmup.run(key, hmc_initial_position)\n"
   ]
  },
  {
   "cell_type": "code",
   "execution_count": null,
   "metadata": {},
   "outputs": [],
   "source": [
    "\n",
    "@jit\n",
    "def _step(current_state, rng_key):\n",
    "    next_state, _ = hmc_kernel(rng_key, current_state)\n",
    "    unc_sample = next_state.position\n",
    "    return next_state, unc_sample\n",
    "\n",
    "keys = iter(jr.split(key, sample_size))\n",
    "param_samples = []\n",
    "current_state = hmc_initial_state\n",
    "for _ in trange(sample_size):\n",
    "    current_state, unc_sample = _step(current_state, next(keys))\n",
    "    sample = from_unconstrained(unc_sample, fixed_params, self.param_props)\n",
    "    param_samples.append(sample)\n",
    "\n",
    "param_samples = tree_map(lambda x, *y: jnp.array([x] + [i for i in y]),\n",
    "                         param_samples[0], *param_samples[1:])"
   ]
  },
  {
   "cell_type": "code",
   "execution_count": null,
   "metadata": {},
   "outputs": [],
   "source": [
    "param_samps = sts_ssm.fit_hmc(key, sample_size, batch_observed_time_series, batch_inputs)"
   ]
  },
  {
   "cell_type": "code",
   "execution_count": null,
   "metadata": {},
   "outputs": [],
   "source": [
    "params_posterior_samples = sts_model.fit_hmc(\n",
    "    key1, sample_size, jnp.array([timeseries_pre]), jnp.array([inputs_pre]))"
   ]
  },
  {
   "cell_type": "code",
   "execution_count": null,
   "metadata": {},
   "outputs": [],
   "source": [
    "\n",
    "# Fit the STS model, sample from the past and forecast.\n",
    "if inputs is not None:\n",
    "    # Model fitting\n",
    "    print('Fit the model using HMC...')\n",
    "    params_posterior_samples = sts_model.fit_hmc(\n",
    "        key1, sample_size, jnp.array([timeseries_pre]), jnp.array([inputs_pre]))\n",
    "    print(\"Model fitting completed.\")\n",
    "    # Sample from the past and forecast\n",
    "    samples_pre = sts_model.posterior_sample(\n",
    "        key2, timeseries_pre, params_posterior_samples, inputs_pre)\n",
    "    samples_pos = sts_model.forecast(\n",
    "        key3, timeseries_pre, params_posterior_samples, timeseries_pos.shape[0],\n",
    "        inputs_pre, inputs_pos)\n",
    "else:\n",
    "    # Model fitting\n",
    "    print('Fit the model using HMC...')\n",
    "    params_posterior_samples = sts_model.fit_hmc(key1, sample_size, jnp.array([timeseries_pre]))\n",
    "    print(\"Model fitting completed.\")\n",
    "    # Sample from the past and forecast\n",
    "    samples_pre = sts_model.posterior_sample(key2, timeseries_pre, params_posterior_samples)\n",
    "    samples_pos = sts_model.forecast(\n",
    "        key3, timeseries_pre, params_posterior_samples, timeseries_pos.shape[0])"
   ]
  },
  {
   "cell_type": "code",
   "execution_count": null,
   "metadata": {},
   "outputs": [],
   "source": [
    "\n",
    "impact = causal_impact(observed_timeseries, intervention_time, inputs)"
   ]
  },
  {
   "cell_type": "code",
   "execution_count": null,
   "metadata": {},
   "outputs": [],
   "source": [
    "# Print the summaries of the inferred causal impact\n",
    "impact.summary()"
   ]
  },
  {
   "cell_type": "code",
   "execution_count": null,
   "metadata": {},
   "outputs": [],
   "source": [
    "# Plot the inferred causal impact\n",
    "impact.plot()"
   ]
  }
 ],
 "metadata": {
  "kernelspec": {
   "display_name": "Python 3.8.14 64-bit",
   "language": "python",
   "name": "python3"
  },
  "language_info": {
   "codemirror_mode": {
    "name": "ipython",
    "version": 3
   },
   "file_extension": ".py",
   "mimetype": "text/x-python",
   "name": "python",
   "nbconvert_exporter": "python",
   "pygments_lexer": "ipython3",
   "version": "3.8.14"
  },
  "orig_nbformat": 4,
  "vscode": {
   "interpreter": {
    "hash": "5b3ded1ccb95c1d9bd405e7b823d9e85424cde40fbb5985eb47e999ef50e15b4"
   }
  }
 },
 "nbformat": 4,
 "nbformat_minor": 2
}
