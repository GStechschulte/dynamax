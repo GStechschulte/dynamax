{
 "cells": [
  {
   "cell_type": "markdown",
   "metadata": {
    "id": "YNVwtTv8P0bZ"
   },
   "source": [
    "# Fixed Lag Smoother"
   ]
  },
  {
   "cell_type": "markdown",
   "metadata": {
    "id": "Fob7r0qaR1Nk"
   },
   "source": [
    "# 0. Imports"
   ]
  },
  {
   "cell_type": "code",
   "execution_count": 1,
   "metadata": {},
   "outputs": [],
   "source": [
    "try:\n",
    "    import ssm_jax\n",
    "except ModuleNotFoundError:\n",
    "    %pip install git+https://github.com/probml/ssm-jax.git\n",
    "    import ssm_jax"
   ]
  },
  {
   "cell_type": "code",
   "execution_count": 2,
   "metadata": {
    "id": "sNgYCLHe7-fC"
   },
   "outputs": [],
   "source": [
    "import ssm_jax.hmm.inference as core\n",
    "import ssm_jax.hmm.inference_test as test\n",
    "\n",
    "import jax.numpy as jnp\n",
    "import jax.random as jr\n",
    "import jax.lax as lax\n",
    "from jax import vmap"
   ]
  },
  {
   "cell_type": "markdown",
   "metadata": {
    "id": "jbmIOFafYk7b"
   },
   "source": [
    "# 1. Fixed Lag Smoother - Two Implementations"
   ]
  },
  {
   "cell_type": "code",
   "execution_count": 3,
   "metadata": {
    "id": "QDJ7YcaZGSTI"
   },
   "outputs": [],
   "source": [
    "# Naive (un-vectorized) version that smooths backward inside the window\n",
    "def hmm_fixed_lag_smoother_iterative(initial_distribution, transition_matrix, log_likelihoods, window_size):\n",
    "\n",
    "    num_timesteps, num_states = log_likelihoods.shape\n",
    "\n",
    "    def _step(carry, t):\n",
    "        # Unpack the inputs\n",
    "        log_normalizers, filtered_probs, predicted_probs = carry\n",
    "        t_offset = t + offset\n",
    "\n",
    "        # Get parameters for time t\n",
    "        A_fwd = core._get_params(transition_matrix, 2, t_offset - 1)\n",
    "        A_bwd = core._get_params(transition_matrix, 2, t_offset)\n",
    "        ll = log_likelihoods[t_offset]\n",
    "\n",
    "        # Shift window forward by 1\n",
    "        log_normalizers = log_normalizers[1:]\n",
    "        predicted_probs = predicted_probs[1:]\n",
    "        filtered_probs = filtered_probs[1:]\n",
    "\n",
    "        # Perform forward operation\n",
    "        predicted_probs_next = core._predict(filtered_probs[-1], A_fwd)\n",
    "        filtered_probs_next, log_norm = core._condition_on(predicted_probs_next, ll)\n",
    "        log_normalizers = jnp.concatenate((log_normalizers, jnp.array([log_norm])))\n",
    "        filtered_probs = jnp.concatenate((filtered_probs, jnp.array([filtered_probs_next])))\n",
    "        predicted_probs = jnp.concatenate((predicted_probs, jnp.array([predicted_probs_next])))\n",
    "\n",
    "        # Smooth backwards inside the window\n",
    "        window_lb = t_offset - window_size + 1\n",
    "        transition_backward = lax.dynamic_slice(\n",
    "            transition_matrix, (window_lb, 0, 0), (window_size, num_states, num_states)\n",
    "        )\n",
    "        transition_backward = transition_matrix\n",
    "        lls_backward = lax.dynamic_slice(log_likelihoods, (window_lb, 0), (window_size, num_states))\n",
    "        _, betas = core.hmm_backward_filter(transition_backward, lls_backward)\n",
    "        betas = jnp.pad(betas, ((window_size - betas.shape[0], 0), (0, 0)))\n",
    "\n",
    "        # Compute posterior values\n",
    "        def compute_posterior(filtered_probs, beta):\n",
    "            smoothed_probs = filtered_probs * beta\n",
    "            return jnp.where(smoothed_probs.sum(), smoothed_probs / smoothed_probs.sum(), smoothed_probs)\n",
    "\n",
    "        smoothed_probs = vmap(compute_posterior, (0, 0))(filtered_probs, betas)\n",
    "\n",
    "        post = core.HMMPosterior(\n",
    "            marginal_loglik=log_normalizers.sum(),\n",
    "            filtered_probs=filtered_probs,\n",
    "            predicted_probs=predicted_probs,\n",
    "            smoothed_probs=smoothed_probs,\n",
    "        )\n",
    "\n",
    "        return (log_normalizers, filtered_probs, predicted_probs), post\n",
    "\n",
    "    # Filter on first observation\n",
    "    ll = log_likelihoods[0]\n",
    "    filtered_probs, log_norm = core._condition_on(initial_distribution, ll)\n",
    "\n",
    "    # Reshape for lax.scan\n",
    "    filtered_probs = jnp.pad(jnp.expand_dims(filtered_probs, axis=0), ((window_size - 1, 0), (0, 0)))\n",
    "    predicted_probs = jnp.pad(jnp.expand_dims(initial_distribution, axis=0), ((window_size - 1, 0), (0, 0)))\n",
    "    log_normalizers = jnp.pad(jnp.array([log_norm]), (window_size - 1, 0))\n",
    "\n",
    "    # Pad transition and log likelihoods for backwards smoothing using lax.scan\n",
    "    if transition_matrix.ndim == 3:\n",
    "        transition_matrix = jnp.pad(transition_matrix, ((window_size - 2, 0), (0, 0), (0, 0)), constant_values=1)\n",
    "    else:\n",
    "        transition_matrix = jnp.repeat(\n",
    "            jnp.expand_dims(transition_matrix, axis=0), window_size - 1 + num_timesteps, axis=0\n",
    "        )\n",
    "    log_likelihoods = jnp.pad(log_likelihoods, ((window_size - 2, 0), (0, 0)))\n",
    "    offset = window_size - 2\n",
    "\n",
    "    carry = (log_normalizers, filtered_probs, predicted_probs)\n",
    "    _, posts = lax.scan(_step, carry, jnp.arange(1, num_timesteps))\n",
    "\n",
    "    # Include initial values\n",
    "    marginal_loglik = jnp.concatenate((jnp.array([log_normalizers.sum()]), posts.marginal_loglik))\n",
    "    predicted_probs = jnp.concatenate((jnp.expand_dims(predicted_probs, axis=0), posts.predicted_probs))\n",
    "    smoothed_probs = jnp.concatenate((jnp.expand_dims(filtered_probs, axis=0), posts.smoothed_probs))\n",
    "    filtered_probs = jnp.concatenate((jnp.expand_dims(filtered_probs, axis=0), posts.filtered_probs))\n",
    "\n",
    "    posts = core.HMMPosterior(\n",
    "        marginal_loglik=marginal_loglik,\n",
    "        filtered_probs=filtered_probs,\n",
    "        predicted_probs=predicted_probs,\n",
    "        smoothed_probs=smoothed_probs,\n",
    "    )\n",
    "\n",
    "    return posts"
   ]
  },
  {
   "cell_type": "code",
   "execution_count": 4,
   "metadata": {
    "id": "6YFXqHP00UmQ"
   },
   "outputs": [],
   "source": [
    "# Vectorized version\n",
    "def hmm_fixed_lag_smoother_vectorized(initial_distribution, transition_matrix, log_likelihoods, window_size):\n",
    "\n",
    "    num_timesteps, num_states = log_likelihoods.shape\n",
    "\n",
    "    def _step(carry, t):\n",
    "        # Unpack the inputs\n",
    "        log_normalizers, filtered_probs, predicted_probs, bmatrices = carry\n",
    "\n",
    "        # Get parameters for time t\n",
    "        A_fwd = core._get_params(transition_matrix, 2, t - 1)\n",
    "        A_bwd = core._get_params(transition_matrix, 2, t)\n",
    "        ll = log_likelihoods[t]\n",
    "\n",
    "        # Shift window forward by 1\n",
    "        log_normalizers = log_normalizers[1:]\n",
    "        predicted_probs = predicted_probs[1:]\n",
    "        filtered_probs = filtered_probs[1:]\n",
    "        bmatrices = bmatrices[1:]\n",
    "\n",
    "        # Perform forward operation\n",
    "        predicted_probs_next = core._predict(filtered_probs[-1], A_fwd)\n",
    "        filtered_probs_next, log_norm = core._condition_on(predicted_probs_next, ll)\n",
    "        log_normalizers = jnp.concatenate((log_normalizers, jnp.array([log_norm])))\n",
    "        filtered_probs = jnp.concatenate((filtered_probs, jnp.array([filtered_probs_next])))\n",
    "        predicted_probs = jnp.concatenate((predicted_probs, jnp.array([predicted_probs_next])))\n",
    "\n",
    "        # Smooth inside the window in parallel\n",
    "        def update_bmatrix(bmatrix):\n",
    "            return (bmatrix @ A_bwd) * jnp.exp(ll)\n",
    "\n",
    "        bmatrices = vmap(update_bmatrix)(bmatrices)\n",
    "        bmatrices = jnp.concatenate((bmatrices, jnp.eye(num_states)[None, :]))\n",
    "\n",
    "        # Compute beta values by row-summing bmatrices\n",
    "        def compute_beta(bmatrix):\n",
    "            beta = bmatrix.sum(axis=1)\n",
    "            return jnp.where(beta.sum(), beta / beta.sum(), beta)\n",
    "\n",
    "        betas = vmap(compute_beta)(bmatrices)\n",
    "\n",
    "        # Compute posterior values\n",
    "        def compute_posterior(filtered_probs, beta):\n",
    "            smoothed_probs = filtered_probs * beta\n",
    "            return jnp.where(smoothed_probs.sum(), smoothed_probs / smoothed_probs.sum(), smoothed_probs)\n",
    "\n",
    "        smoothed_probs = vmap(compute_posterior, (0, 0))(filtered_probs, betas)\n",
    "\n",
    "        post = core.HMMPosterior(\n",
    "            marginal_loglik=log_normalizers.sum(),\n",
    "            filtered_probs=filtered_probs,\n",
    "            predicted_probs=predicted_probs,\n",
    "            smoothed_probs=smoothed_probs,\n",
    "        )\n",
    "\n",
    "        return (log_normalizers, filtered_probs, predicted_probs, bmatrices), post\n",
    "\n",
    "    # Filter on first observation\n",
    "    ll = log_likelihoods[0]\n",
    "    filtered_probs, log_norm = core._condition_on(initial_distribution, ll)\n",
    "\n",
    "    # Reshape for lax.scan\n",
    "    filtered_probs = jnp.pad(jnp.expand_dims(filtered_probs, axis=0), ((window_size - 1, 0), (0, 0)))\n",
    "    predicted_probs = jnp.pad(jnp.expand_dims(initial_distribution, axis=0), ((window_size - 1, 0), (0, 0)))\n",
    "    log_normalizers = jnp.pad(jnp.array([log_norm]), (window_size - 1, 0))\n",
    "    bmatrices = jnp.pad(jnp.expand_dims(jnp.eye(num_states), axis=0), ((window_size - 1, 0), (0, 0), (0, 0)))\n",
    "\n",
    "    carry = (log_normalizers, filtered_probs, predicted_probs, bmatrices)\n",
    "    _, posts = lax.scan(_step, carry, jnp.arange(1, num_timesteps))\n",
    "\n",
    "    # Include initial values\n",
    "    marginal_loglik = jnp.concatenate((jnp.array([log_normalizers.sum()]), posts.marginal_loglik))\n",
    "    predicted_probs = jnp.concatenate((jnp.expand_dims(predicted_probs, axis=0), posts.predicted_probs))\n",
    "    smoothed_probs = jnp.concatenate((jnp.expand_dims(filtered_probs, axis=0), posts.smoothed_probs))\n",
    "    filtered_probs = jnp.concatenate((jnp.expand_dims(filtered_probs, axis=0), posts.filtered_probs))\n",
    "\n",
    "    posts = core.HMMPosterior(\n",
    "        marginal_loglik=marginal_loglik,\n",
    "        filtered_probs=filtered_probs,\n",
    "        predicted_probs=predicted_probs,\n",
    "        smoothed_probs=smoothed_probs,\n",
    "    )\n",
    "\n",
    "    return posts"
   ]
  },
  {
   "cell_type": "markdown",
   "metadata": {
    "id": "tEg7cAk0aNAH"
   },
   "source": [
    "# 2. Correctness of Implementation"
   ]
  },
  {
   "cell_type": "markdown",
   "metadata": {
    "id": "WXfW503oaXXW"
   },
   "source": [
    "We test the two versions by comparing their full-lag smoothed posteriors against those of the naive ```core.hmm_smoother```.\n",
    "\n",
    "\n"
   ]
  },
  {
   "cell_type": "code",
   "execution_count": 5,
   "metadata": {
    "id": "WKIYdNxyDysx"
   },
   "outputs": [
    {
     "name": "stderr",
     "output_type": "stream",
     "text": [
      "WARNING:absl:No GPU/TPU found, falling back to CPU. (Set TF_CPP_MIN_LOG_LEVEL=0 and rerun for more info.)\n"
     ]
    }
   ],
   "source": [
    "def test_hmm_fixed_lag_smoother(key=0, num_timesteps=5, num_states=2):\n",
    "    if isinstance(key, int):\n",
    "        key = jr.PRNGKey(key)\n",
    "\n",
    "    args = test.random_hmm_args(key, num_timesteps, num_states)\n",
    "\n",
    "    # Run the HMM smoother\n",
    "    posterior = core.hmm_smoother(*args)\n",
    "\n",
    "    # Run the HMM fixed-lag smoothers (vectorized, iterative) with full window size\n",
    "    posterior_fl_vec = hmm_fixed_lag_smoother_vectorized(*args, window_size=num_timesteps)\n",
    "    posterior_fl_it = hmm_fixed_lag_smoother_iterative(*args, window_size=num_timesteps)\n",
    "\n",
    "    def compare_posteriors(post1, post2):\n",
    "        assert jnp.allclose(post1.marginal_loglik, post2.marginal_loglik[-1])\n",
    "        assert jnp.allclose(post1.filtered_probs, post2.filtered_probs[-1])\n",
    "        assert jnp.allclose(post1.predicted_probs, post2.predicted_probs[-1])\n",
    "        assert jnp.allclose(post1.smoothed_probs, post2.smoothed_probs[-1])\n",
    "\n",
    "    # Compare posterior values of fixed-lag smoothers to those of smoother\n",
    "    compare_posteriors(posterior, posterior_fl_vec)\n",
    "    compare_posteriors(posterior, posterior_fl_it)\n",
    "\n",
    "\n",
    "# Verify correctness\n",
    "test_hmm_fixed_lag_smoother()"
   ]
  },
  {
   "cell_type": "markdown",
   "metadata": {
    "id": "S2ZVMRwEkQML"
   },
   "source": [
    "# 3. Timed Experiments"
   ]
  },
  {
   "cell_type": "code",
   "execution_count": 6,
   "metadata": {
    "colab": {
     "base_uri": "https://localhost:8080/",
     "height": 1000
    },
    "id": "RGcVmIuLFRy4",
    "outputId": "afc4f5e3-100b-4fae-8a81-fd1eff6288d2"
   },
   "outputs": [
    {
     "name": "stdout",
     "output_type": "stream",
     "text": [
      "Window of size: 2\n",
      "Iterative version took 0.6879169940948486 seconds.\n",
      "Vectorized version took 0.3394777774810791 seconds.\n",
      "Window of size: 500\n",
      "Iterative version took 0.8350698947906494 seconds.\n",
      "Vectorized version took 0.5744898319244385 seconds.\n",
      "Window of size: 1000\n",
      "Iterative version took 1.2181401252746582 seconds.\n",
      "Vectorized version took 0.7097492218017578 seconds.\n",
      "Window of size: 1500\n",
      "Iterative version took 1.6388370990753174 seconds.\n",
      "Vectorized version took 1.1044700145721436 seconds.\n",
      "Window of size: 2000\n",
      "Iterative version took 2.09260892868042 seconds.\n",
      "Vectorized version took 1.4140090942382812 seconds.\n",
      "Window of size: 2500\n",
      "Iterative version took 3.028284788131714 seconds.\n",
      "Vectorized version took 1.8057429790496826 seconds.\n",
      "Window of size: 3000\n",
      "Iterative version took 3.990262985229492 seconds.\n",
      "Vectorized version took 2.2342159748077393 seconds.\n",
      "Window of size: 3500\n",
      "Iterative version took 3.896775960922241 seconds.\n",
      "Vectorized version took 2.254439353942871 seconds.\n",
      "Window of size: 4000\n",
      "Iterative version took 4.052597999572754 seconds.\n",
      "Vectorized version took 2.3892390727996826 seconds.\n",
      "Window of size: 4500\n",
      "Iterative version took 4.461411237716675 seconds.\n",
      "Vectorized version took 3.345583915710449 seconds.\n",
      "Window of size: 5000\n",
      "Iterative version took 4.189733982086182 seconds.\n",
      "Vectorized version took 3.0853681564331055 seconds.\n",
      "Window of size: 5500\n",
      "Iterative version took 4.465394020080566 seconds.\n",
      "Vectorized version took 3.673820972442627 seconds.\n",
      "Window of size: 6000\n",
      "Iterative version took 4.86247181892395 seconds.\n",
      "Vectorized version took 3.609677791595459 seconds.\n",
      "Window of size: 6500\n",
      "Iterative version took 5.1528639793396 seconds.\n",
      "Vectorized version took 3.739453077316284 seconds.\n",
      "Window of size: 7000\n",
      "Iterative version took 5.701930999755859 seconds.\n",
      "Vectorized version took 4.010390043258667 seconds.\n",
      "Window of size: 7500\n",
      "Iterative version took 5.768502950668335 seconds.\n",
      "Vectorized version took 4.360296249389648 seconds.\n",
      "Window of size: 8000\n",
      "Iterative version took 6.322587013244629 seconds.\n",
      "Vectorized version took 4.809262990951538 seconds.\n",
      "Window of size: 8500\n",
      "Iterative version took 6.40394401550293 seconds.\n",
      "Vectorized version took 6.036008358001709 seconds.\n",
      "Window of size: 9000\n",
      "Iterative version took 7.0489208698272705 seconds.\n",
      "Vectorized version took 5.166159152984619 seconds.\n"
     ]
    },
    {
     "data": {
      "image/png": "[encoded data removed]",
      "text/plain": [
       "<Figure size 432x288 with 1 Axes>"
      ]
     },
     "metadata": {
      "needs_background": "light"
     },
     "output_type": "display_data"
    }
   ],
   "source": [
    "import time\n",
    "import numpy as np\n",
    "import matplotlib.pyplot as plt\n",
    "\n",
    "\n",
    "def compare_runtime(key=0, num_timesteps=10000, num_states=3, window_ub=9000, window_step=500):\n",
    "    if isinstance(key, int):\n",
    "        key = jr.PRNGKey(key)\n",
    "    args = test.random_hmm_args(key, num_timesteps, num_states)\n",
    "    window_grid = np.insert(np.arange(window_step, window_ub + 1, window_step), 0, 2)\n",
    "\n",
    "    it_times, vec_times = [], []\n",
    "    for window_size in window_grid:\n",
    "        print(f\"Window of size: {window_size}\")\n",
    "        start = time.time()\n",
    "        _ = hmm_fixed_lag_smoother_iterative(*args, window_size)\n",
    "        it_time = time.time() - start\n",
    "        it_times.append(it_time)\n",
    "        print(f\"Iterative version took {it_time} seconds.\")\n",
    "        start = time.time()\n",
    "        _ = hmm_fixed_lag_smoother_vectorized(*args, window_size)\n",
    "        vec_time = time.time() - start\n",
    "        vec_times.append(vec_time)\n",
    "        print(f\"Vectorized version took {vec_time} seconds.\")\n",
    "\n",
    "    # Plot the result\n",
    "    plt.figure()\n",
    "    plt.plot(window_grid, it_times, label=\"iterative\")\n",
    "    plt.plot(window_grid, vec_times, label=\"vectorized\")\n",
    "    plt.xlabel(\"window length\")\n",
    "    plt.ylabel(\"best time in s\")\n",
    "    plt.legend()\n",
    "    plt.show()\n",
    "\n",
    "\n",
    "compare_runtime()"
   ]
  }
 ],
 "metadata": {
  "colab": {
   "name": "fixed_lag_smoother.ipynb",
   "provenance": []
  },
  "interpreter": {
   "hash": "1c9b7abd99f812592e04518a2dddca5f7bc8ca20b74b8ad7e1b8422bf8e8c0a8"
  },
  "kernelspec": {
   "display_name": "Python 3 (ipykernel)",
   "language": "python",
   "name": "python3"
  },
  "language_info": {
   "codemirror_mode": {
    "name": "ipython",
    "version": 3
   },
   "file_extension": ".py",
   "mimetype": "text/x-python",
   "name": "python",
   "nbconvert_exporter": "python",
   "pygments_lexer": "ipython3",
   "version": "3.9.6"
  }
 },
 "nbformat": 4,
 "nbformat_minor": 4
}
